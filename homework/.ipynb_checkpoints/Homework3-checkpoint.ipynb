{
 "cells": [
  {
   "cell_type": "markdown",
   "metadata": {},
   "source": [
    "# SYD DAT 3 Lab 2 - Visualisation and Regression\n",
    "\n",
    "##Homework - Due 20th/22nd January 2016\n",
    "\n",
    "#### Communication\n",
    "Pick one data science topic that interestes you, could be an article, or how a Kaggle competition was won. Write a 5 minute presentation with 5 slides. You should explain, what was done, the motivation behind it, the results and what you can think of that would improve the project.\n",
    "\n",
    "We will present these in class on Wednesday 20th January to practice presentation skills.\n",
    "\n",
    "#### Course Project\n",
    "Share with a me a ipython notebook containing the following:\n",
    "* Data read into python in a data frame\n",
    "* A statistical summary of your data\n",
    "* A visualisation of your data\n",
    "* One of the following with your data; Linear or Logistic Regression (with regularization), or Clustering.\n",
    "* A written summary at the end describing your data\n",
    "\n",
    "**Instructions: copy this file and append your name in the filename, e.g. Homework3_ian_hansel.ipynb.\n",
    "Then commit this in your local repository, push it to your github account and create a pull request so I can see your work. Remeber if you get stuck to look at the slides going over Fork, Clone, Commit, Push and Pull request.**"
   ]
  },
  {
   "cell_type": "code",
   "execution_count": null,
   "metadata": {
    "collapsed": true
   },
   "outputs": [],
   "source": []
  }
 ],
 "metadata": {
  "kernelspec": {
   "display_name": "Python 2",
   "language": "python",
   "name": "python2"
  },
  "language_info": {
   "codemirror_mode": {
    "name": "ipython",
    "version": 2
   },
   "file_extension": ".py",
   "mimetype": "text/x-python",
   "name": "python",
   "nbconvert_exporter": "python",
   "pygments_lexer": "ipython2",
   "version": "2.7.10"
  }
 },
 "nbformat": 4,
 "nbformat_minor": 0
}
